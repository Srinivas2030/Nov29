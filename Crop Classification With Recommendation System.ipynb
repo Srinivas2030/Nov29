{
 "cells": [
  {
   "cell_type": "code",
   "execution_count": 1,
   "id": "7bee9b73",
   "metadata": {
    "ExecuteTime": {
     "end_time": "2023-10-05T16:31:34.786846100Z",
     "start_time": "2023-10-05T16:31:34.784333900Z"
    }
   },
   "outputs": [],
   "source": [
    "import numpy as np\n",
    "import pandas as pd"
   ]
  },
  {
   "cell_type": "markdown",
   "id": "2822305c",
   "metadata": {},
   "source": [
    "# Importing Data"
   ]
  },
  {
   "cell_type": "code",
   "execution_count": 2,
   "id": "5b6f8884",
   "metadata": {
    "ExecuteTime": {
     "end_time": "2023-10-05T16:31:34.805283700Z",
     "start_time": "2023-10-05T16:31:34.787952Z"
    }
   },
   "outputs": [
    {
     "data": {
      "text/plain": "    N   P   K  temperature   humidity        ph    rainfall label\n0  90  42  43    20.879744  82.002744  6.502985  202.935536  rice\n1  85  58  41    21.770462  80.319644  7.038096  226.655537  rice\n2  60  55  44    23.004459  82.320763  7.840207  263.964248  rice\n3  74  35  40    26.491096  80.158363  6.980401  242.864034  rice\n4  78  42  42    20.130175  81.604873  7.628473  262.717340  rice",
      "text/html": "<div>\n<style scoped>\n    .dataframe tbody tr th:only-of-type {\n        vertical-align: middle;\n    }\n\n    .dataframe tbody tr th {\n        vertical-align: top;\n    }\n\n    .dataframe thead th {\n        text-align: right;\n    }\n</style>\n<table border=\"1\" class=\"dataframe\">\n  <thead>\n    <tr style=\"text-align: right;\">\n      <th></th>\n      <th>N</th>\n      <th>P</th>\n      <th>K</th>\n      <th>temperature</th>\n      <th>humidity</th>\n      <th>ph</th>\n      <th>rainfall</th>\n      <th>label</th>\n    </tr>\n  </thead>\n  <tbody>\n    <tr>\n      <th>0</th>\n      <td>90</td>\n      <td>42</td>\n      <td>43</td>\n      <td>20.879744</td>\n      <td>82.002744</td>\n      <td>6.502985</td>\n      <td>202.935536</td>\n      <td>rice</td>\n    </tr>\n    <tr>\n      <th>1</th>\n      <td>85</td>\n      <td>58</td>\n      <td>41</td>\n      <td>21.770462</td>\n      <td>80.319644</td>\n      <td>7.038096</td>\n      <td>226.655537</td>\n      <td>rice</td>\n    </tr>\n    <tr>\n      <th>2</th>\n      <td>60</td>\n      <td>55</td>\n      <td>44</td>\n      <td>23.004459</td>\n      <td>82.320763</td>\n      <td>7.840207</td>\n      <td>263.964248</td>\n      <td>rice</td>\n    </tr>\n    <tr>\n      <th>3</th>\n      <td>74</td>\n      <td>35</td>\n      <td>40</td>\n      <td>26.491096</td>\n      <td>80.158363</td>\n      <td>6.980401</td>\n      <td>242.864034</td>\n      <td>rice</td>\n    </tr>\n    <tr>\n      <th>4</th>\n      <td>78</td>\n      <td>42</td>\n      <td>42</td>\n      <td>20.130175</td>\n      <td>81.604873</td>\n      <td>7.628473</td>\n      <td>262.717340</td>\n      <td>rice</td>\n    </tr>\n  </tbody>\n</table>\n</div>"
     },
     "execution_count": 2,
     "metadata": {},
     "output_type": "execute_result"
    }
   ],
   "source": [
    "crop = pd.read_csv(\"Crop_recommendation.csv\")\n",
    "crop.head()"
   ]
  },
  {
   "cell_type": "markdown",
   "id": "e9ddfb22",
   "metadata": {},
   "source": [
    "# Asq Six Question to yourself"
   ]
  },
  {
   "cell_type": "code",
   "execution_count": 5,
   "id": "3ca70c00",
   "metadata": {
    "ExecuteTime": {
     "end_time": "2023-10-05T16:34:28.546002300Z",
     "start_time": "2023-10-05T16:34:28.544591100Z"
    }
   },
   "outputs": [
    {
     "data": {
      "text/plain": "(2200, 8)"
     },
     "execution_count": 5,
     "metadata": {},
     "output_type": "execute_result"
    }
   ],
   "source": [
    "crop.shape"
   ]
  },
  {
   "cell_type": "code",
   "execution_count": 6,
   "id": "e2ae9b60",
   "metadata": {
    "ExecuteTime": {
     "end_time": "2023-10-05T16:34:30.633493300Z",
     "start_time": "2023-10-05T16:34:30.619596200Z"
    }
   },
   "outputs": [
    {
     "name": "stdout",
     "output_type": "stream",
     "text": [
      "<class 'pandas.core.frame.DataFrame'>\n",
      "RangeIndex: 2200 entries, 0 to 2199\n",
      "Data columns (total 8 columns):\n",
      " #   Column       Non-Null Count  Dtype  \n",
      "---  ------       --------------  -----  \n",
      " 0   N            2200 non-null   int64  \n",
      " 1   P            2200 non-null   int64  \n",
      " 2   K            2200 non-null   int64  \n",
      " 3   temperature  2200 non-null   float64\n",
      " 4   humidity     2200 non-null   float64\n",
      " 5   ph           2200 non-null   float64\n",
      " 6   rainfall     2200 non-null   float64\n",
      " 7   label        2200 non-null   object \n",
      "dtypes: float64(4), int64(3), object(1)\n",
      "memory usage: 137.6+ KB\n"
     ]
    }
   ],
   "source": [
    "crop.info()"
   ]
  },
  {
   "cell_type": "code",
   "execution_count": 5,
   "id": "9efad4c4",
   "metadata": {},
   "outputs": [
    {
     "data": {
      "text/plain": [
       "N              0\n",
       "P              0\n",
       "K              0\n",
       "temperature    0\n",
       "humidity       0\n",
       "ph             0\n",
       "rainfall       0\n",
       "label          0\n",
       "dtype: int64"
      ]
     },
     "execution_count": 5,
     "metadata": {},
     "output_type": "execute_result"
    }
   ],
   "source": [
    "crop.isnull().sum()"
   ]
  },
  {
   "cell_type": "code",
   "execution_count": 6,
   "id": "1f7bf8c5",
   "metadata": {},
   "outputs": [
    {
     "data": {
      "text/plain": [
       "0"
      ]
     },
     "execution_count": 6,
     "metadata": {},
     "output_type": "execute_result"
    }
   ],
   "source": [
    "crop.duplicated().sum()"
   ]
  },
  {
   "cell_type": "code",
   "execution_count": 7,
   "id": "3d5b7413",
   "metadata": {
    "scrolled": false
   },
   "outputs": [
    {
     "data": {
      "text/html": [
       "<div>\n",
       "<style scoped>\n",
       "    .dataframe tbody tr th:only-of-type {\n",
       "        vertical-align: middle;\n",
       "    }\n",
       "\n",
       "    .dataframe tbody tr th {\n",
       "        vertical-align: top;\n",
       "    }\n",
       "\n",
       "    .dataframe thead th {\n",
       "        text-align: right;\n",
       "    }\n",
       "</style>\n",
       "<table border=\"1\" class=\"dataframe\">\n",
       "  <thead>\n",
       "    <tr style=\"text-align: right;\">\n",
       "      <th></th>\n",
       "      <th>N</th>\n",
       "      <th>P</th>\n",
       "      <th>K</th>\n",
       "      <th>temperature</th>\n",
       "      <th>humidity</th>\n",
       "      <th>ph</th>\n",
       "      <th>rainfall</th>\n",
       "    </tr>\n",
       "  </thead>\n",
       "  <tbody>\n",
       "    <tr>\n",
       "      <th>count</th>\n",
       "      <td>2200.000000</td>\n",
       "      <td>2200.000000</td>\n",
       "      <td>2200.000000</td>\n",
       "      <td>2200.000000</td>\n",
       "      <td>2200.000000</td>\n",
       "      <td>2200.000000</td>\n",
       "      <td>2200.000000</td>\n",
       "    </tr>\n",
       "    <tr>\n",
       "      <th>mean</th>\n",
       "      <td>50.551818</td>\n",
       "      <td>53.362727</td>\n",
       "      <td>48.149091</td>\n",
       "      <td>25.616244</td>\n",
       "      <td>71.481779</td>\n",
       "      <td>6.469480</td>\n",
       "      <td>103.463655</td>\n",
       "    </tr>\n",
       "    <tr>\n",
       "      <th>std</th>\n",
       "      <td>36.917334</td>\n",
       "      <td>32.985883</td>\n",
       "      <td>50.647931</td>\n",
       "      <td>5.063749</td>\n",
       "      <td>22.263812</td>\n",
       "      <td>0.773938</td>\n",
       "      <td>54.958389</td>\n",
       "    </tr>\n",
       "    <tr>\n",
       "      <th>min</th>\n",
       "      <td>0.000000</td>\n",
       "      <td>5.000000</td>\n",
       "      <td>5.000000</td>\n",
       "      <td>8.825675</td>\n",
       "      <td>14.258040</td>\n",
       "      <td>3.504752</td>\n",
       "      <td>20.211267</td>\n",
       "    </tr>\n",
       "    <tr>\n",
       "      <th>25%</th>\n",
       "      <td>21.000000</td>\n",
       "      <td>28.000000</td>\n",
       "      <td>20.000000</td>\n",
       "      <td>22.769375</td>\n",
       "      <td>60.261953</td>\n",
       "      <td>5.971693</td>\n",
       "      <td>64.551686</td>\n",
       "    </tr>\n",
       "    <tr>\n",
       "      <th>50%</th>\n",
       "      <td>37.000000</td>\n",
       "      <td>51.000000</td>\n",
       "      <td>32.000000</td>\n",
       "      <td>25.598693</td>\n",
       "      <td>80.473146</td>\n",
       "      <td>6.425045</td>\n",
       "      <td>94.867624</td>\n",
       "    </tr>\n",
       "    <tr>\n",
       "      <th>75%</th>\n",
       "      <td>84.250000</td>\n",
       "      <td>68.000000</td>\n",
       "      <td>49.000000</td>\n",
       "      <td>28.561654</td>\n",
       "      <td>89.948771</td>\n",
       "      <td>6.923643</td>\n",
       "      <td>124.267508</td>\n",
       "    </tr>\n",
       "    <tr>\n",
       "      <th>max</th>\n",
       "      <td>140.000000</td>\n",
       "      <td>145.000000</td>\n",
       "      <td>205.000000</td>\n",
       "      <td>43.675493</td>\n",
       "      <td>99.981876</td>\n",
       "      <td>9.935091</td>\n",
       "      <td>298.560117</td>\n",
       "    </tr>\n",
       "  </tbody>\n",
       "</table>\n",
       "</div>"
      ],
      "text/plain": [
       "                 N            P            K  temperature     humidity  \\\n",
       "count  2200.000000  2200.000000  2200.000000  2200.000000  2200.000000   \n",
       "mean     50.551818    53.362727    48.149091    25.616244    71.481779   \n",
       "std      36.917334    32.985883    50.647931     5.063749    22.263812   \n",
       "min       0.000000     5.000000     5.000000     8.825675    14.258040   \n",
       "25%      21.000000    28.000000    20.000000    22.769375    60.261953   \n",
       "50%      37.000000    51.000000    32.000000    25.598693    80.473146   \n",
       "75%      84.250000    68.000000    49.000000    28.561654    89.948771   \n",
       "max     140.000000   145.000000   205.000000    43.675493    99.981876   \n",
       "\n",
       "                ph     rainfall  \n",
       "count  2200.000000  2200.000000  \n",
       "mean      6.469480   103.463655  \n",
       "std       0.773938    54.958389  \n",
       "min       3.504752    20.211267  \n",
       "25%       5.971693    64.551686  \n",
       "50%       6.425045    94.867624  \n",
       "75%       6.923643   124.267508  \n",
       "max       9.935091   298.560117  "
      ]
     },
     "execution_count": 7,
     "metadata": {},
     "output_type": "execute_result"
    }
   ],
   "source": [
    "crop.describe()"
   ]
  },
  {
   "cell_type": "code",
   "execution_count": null,
   "id": "cea17e12",
   "metadata": {},
   "outputs": [],
   "source": []
  },
  {
   "cell_type": "markdown",
   "id": "b10cce9f",
   "metadata": {},
   "source": [
    "# Exploring Data"
   ]
  },
  {
   "cell_type": "code",
   "execution_count": 9,
   "id": "709d06f9",
   "metadata": {
    "ExecuteTime": {
     "end_time": "2023-10-05T16:37:35.831121Z",
     "start_time": "2023-10-05T16:37:35.811013300Z"
    }
   },
   "outputs": [
    {
     "data": {
      "text/plain": "                    N         P         K  temperature  humidity        ph  \\\nN            1.000000 -0.231460 -0.140512     0.026504  0.190688  0.096683   \nP           -0.231460  1.000000  0.736232    -0.127541 -0.118734 -0.138019   \nK           -0.140512  0.736232  1.000000    -0.160387  0.190859 -0.169503   \ntemperature  0.026504 -0.127541 -0.160387     1.000000  0.205320 -0.017795   \nhumidity     0.190688 -0.118734  0.190859     0.205320  1.000000 -0.008483   \nph           0.096683 -0.138019 -0.169503    -0.017795 -0.008483  1.000000   \nrainfall     0.059020 -0.063839 -0.053461    -0.030084  0.094423 -0.109069   \n\n             rainfall  \nN            0.059020  \nP           -0.063839  \nK           -0.053461  \ntemperature -0.030084  \nhumidity     0.094423  \nph          -0.109069  \nrainfall     1.000000  ",
      "text/html": "<div>\n<style scoped>\n    .dataframe tbody tr th:only-of-type {\n        vertical-align: middle;\n    }\n\n    .dataframe tbody tr th {\n        vertical-align: top;\n    }\n\n    .dataframe thead th {\n        text-align: right;\n    }\n</style>\n<table border=\"1\" class=\"dataframe\">\n  <thead>\n    <tr style=\"text-align: right;\">\n      <th></th>\n      <th>N</th>\n      <th>P</th>\n      <th>K</th>\n      <th>temperature</th>\n      <th>humidity</th>\n      <th>ph</th>\n      <th>rainfall</th>\n    </tr>\n  </thead>\n  <tbody>\n    <tr>\n      <th>N</th>\n      <td>1.000000</td>\n      <td>-0.231460</td>\n      <td>-0.140512</td>\n      <td>0.026504</td>\n      <td>0.190688</td>\n      <td>0.096683</td>\n      <td>0.059020</td>\n    </tr>\n    <tr>\n      <th>P</th>\n      <td>-0.231460</td>\n      <td>1.000000</td>\n      <td>0.736232</td>\n      <td>-0.127541</td>\n      <td>-0.118734</td>\n      <td>-0.138019</td>\n      <td>-0.063839</td>\n    </tr>\n    <tr>\n      <th>K</th>\n      <td>-0.140512</td>\n      <td>0.736232</td>\n      <td>1.000000</td>\n      <td>-0.160387</td>\n      <td>0.190859</td>\n      <td>-0.169503</td>\n      <td>-0.053461</td>\n    </tr>\n    <tr>\n      <th>temperature</th>\n      <td>0.026504</td>\n      <td>-0.127541</td>\n      <td>-0.160387</td>\n      <td>1.000000</td>\n      <td>0.205320</td>\n      <td>-0.017795</td>\n      <td>-0.030084</td>\n    </tr>\n    <tr>\n      <th>humidity</th>\n      <td>0.190688</td>\n      <td>-0.118734</td>\n      <td>0.190859</td>\n      <td>0.205320</td>\n      <td>1.000000</td>\n      <td>-0.008483</td>\n      <td>0.094423</td>\n    </tr>\n    <tr>\n      <th>ph</th>\n      <td>0.096683</td>\n      <td>-0.138019</td>\n      <td>-0.169503</td>\n      <td>-0.017795</td>\n      <td>-0.008483</td>\n      <td>1.000000</td>\n      <td>-0.109069</td>\n    </tr>\n    <tr>\n      <th>rainfall</th>\n      <td>0.059020</td>\n      <td>-0.063839</td>\n      <td>-0.053461</td>\n      <td>-0.030084</td>\n      <td>0.094423</td>\n      <td>-0.109069</td>\n      <td>1.000000</td>\n    </tr>\n  </tbody>\n</table>\n</div>"
     },
     "execution_count": 9,
     "metadata": {},
     "output_type": "execute_result"
    }
   ],
   "source": [
    "corr = crop.corr(numeric_only='false')\n",
    "corr"
   ]
  },
  {
   "cell_type": "code",
   "execution_count": 10,
   "id": "95040822",
   "metadata": {
    "ExecuteTime": {
     "end_time": "2023-10-05T16:37:42.344844900Z",
     "start_time": "2023-10-05T16:37:42.109759300Z"
    }
   },
   "outputs": [
    {
     "data": {
      "text/plain": "<Axes: >"
     },
     "execution_count": 10,
     "metadata": {},
     "output_type": "execute_result"
    },
    {
     "data": {
      "text/plain": "<Figure size 640x480 with 2 Axes>",
      "image/png": "[encoded data removed]"
     },
     "metadata": {},
     "output_type": "display_data"
    }
   ],
   "source": [
    "import seaborn as sns\n",
    "sns.heatmap(corr,annot=True,cbar=True, cmap='coolwarm')"
   ]
  },
  {
   "cell_type": "code",
   "execution_count": 11,
   "id": "1056bfba",
   "metadata": {
    "ExecuteTime": {
     "end_time": "2023-10-05T16:37:49.464785600Z",
     "start_time": "2023-10-05T16:37:49.455810600Z"
    }
   },
   "outputs": [
    {
     "data": {
      "text/plain": "label\nrice           100\nmaize          100\njute           100\ncotton         100\ncoconut        100\npapaya         100\norange         100\napple          100\nmuskmelon      100\nwatermelon     100\ngrapes         100\nmango          100\nbanana         100\npomegranate    100\nlentil         100\nblackgram      100\nmungbean       100\nmothbeans      100\npigeonpeas     100\nkidneybeans    100\nchickpea       100\ncoffee         100\nName: count, dtype: int64"
     },
     "execution_count": 11,
     "metadata": {},
     "output_type": "execute_result"
    }
   ],
   "source": [
    "crop['label'].value_counts()"
   ]
  },
  {
   "cell_type": "code",
   "execution_count": 13,
   "id": "28421986",
   "metadata": {
    "ExecuteTime": {
     "end_time": "2023-10-05T16:37:54.369861400Z",
     "start_time": "2023-10-05T16:37:54.218481600Z"
    }
   },
   "outputs": [
    {
     "name": "stderr",
     "output_type": "stream",
     "text": [
      "C:\\Users\\djsri\\AppData\\Local\\Temp\\ipykernel_3500\\1802706641.py:2: UserWarning: \n",
      "\n",
      "`distplot` is a deprecated function and will be removed in seaborn v0.14.0.\n",
      "\n",
      "Please adapt your code to use either `displot` (a figure-level function with\n",
      "similar flexibility) or `histplot` (an axes-level function for histograms).\n",
      "\n",
      "For a guide to updating your code to use the new functions, please see\n",
      "https://gist.github.com/mwaskom/de44147ed2974457ad6372750bbe5751\n",
      "\n",
      "  sns.distplot(crop['N'])\n"
     ]
    },
    {
     "data": {
      "text/plain": "<Figure size 640x480 with 1 Axes>",
      "image/png": "[encoded data removed]"
     },
     "metadata": {},
     "output_type": "display_data"
    }
   ],
   "source": [
    "import matplotlib.pyplot as plt\n",
    "sns.distplot(crop['N'])\n",
    "plt.show()"
   ]
  },
  {
   "cell_type": "markdown",
   "id": "3e3af150",
   "metadata": {},
   "source": [
    "# Encoding"
   ]
  },
  {
   "cell_type": "code",
   "execution_count": 14,
   "id": "8c35d395",
   "metadata": {
    "ExecuteTime": {
     "end_time": "2023-10-05T16:38:00.938962800Z",
     "start_time": "2023-10-05T16:38:00.938457800Z"
    }
   },
   "outputs": [],
   "source": [
    "crop_dict = {\n",
    "    'rice': 1,\n",
    "    'maize': 2,\n",
    "    'jute': 3,\n",
    "    'cotton': 4,\n",
    "    'coconut': 5,\n",
    "    'papaya': 6,\n",
    "    'orange': 7,\n",
    "    'apple': 8,\n",
    "    'muskmelon': 9,\n",
    "    'watermelon': 10,\n",
    "    'grapes': 11,\n",
    "    'mango': 12,\n",
    "    'banana': 13,\n",
    "    'pomegranate': 14,\n",
    "    'lentil': 15,\n",
    "    'blackgram': 16,\n",
    "    'mungbean': 17,\n",
    "    'mothbeans': 18,\n",
    "    'pigeonpeas': 19,\n",
    "    'kidneybeans': 20,\n",
    "    'chickpea': 21,\n",
    "    'coffee': 22\n",
    "}\n",
    "crop['crop_num']=crop['label'].map(crop_dict)"
   ]
  },
  {
   "cell_type": "code",
   "execution_count": 15,
   "id": "b1a53f7f",
   "metadata": {
    "ExecuteTime": {
     "end_time": "2023-10-05T16:38:31.663541400Z",
     "start_time": "2023-10-05T16:38:31.643833700Z"
    }
   },
   "outputs": [
    {
     "data": {
      "text/plain": "crop_num\n1     100\n2     100\n3     100\n4     100\n5     100\n6     100\n7     100\n8     100\n9     100\n10    100\n11    100\n12    100\n13    100\n14    100\n15    100\n16    100\n17    100\n18    100\n19    100\n20    100\n21    100\n22    100\nName: count, dtype: int64"
     },
     "execution_count": 15,
     "metadata": {},
     "output_type": "execute_result"
    }
   ],
   "source": [
    "crop['crop_num'].value_counts()"
   ]
  },
  {
   "cell_type": "code",
   "execution_count": 17,
   "id": "dff5caca",
   "metadata": {
    "ExecuteTime": {
     "end_time": "2023-10-05T16:38:37.811123200Z",
     "start_time": "2023-10-05T16:38:37.800694700Z"
    }
   },
   "outputs": [
    {
     "data": {
      "text/plain": "    N   P   K  temperature   humidity        ph    rainfall label  crop_num\n0  90  42  43    20.879744  82.002744  6.502985  202.935536  rice         1\n1  85  58  41    21.770462  80.319644  7.038096  226.655537  rice         1\n2  60  55  44    23.004459  82.320763  7.840207  263.964248  rice         1\n3  74  35  40    26.491096  80.158363  6.980401  242.864034  rice         1\n4  78  42  42    20.130175  81.604873  7.628473  262.717340  rice         1",
      "text/html": "<div>\n<style scoped>\n    .dataframe tbody tr th:only-of-type {\n        vertical-align: middle;\n    }\n\n    .dataframe tbody tr th {\n        vertical-align: top;\n    }\n\n    .dataframe thead th {\n        text-align: right;\n    }\n</style>\n<table border=\"1\" class=\"dataframe\">\n  <thead>\n    <tr style=\"text-align: right;\">\n      <th></th>\n      <th>N</th>\n      <th>P</th>\n      <th>K</th>\n      <th>temperature</th>\n      <th>humidity</th>\n      <th>ph</th>\n      <th>rainfall</th>\n      <th>label</th>\n      <th>crop_num</th>\n    </tr>\n  </thead>\n  <tbody>\n    <tr>\n      <th>0</th>\n      <td>90</td>\n      <td>42</td>\n      <td>43</td>\n      <td>20.879744</td>\n      <td>82.002744</td>\n      <td>6.502985</td>\n      <td>202.935536</td>\n      <td>rice</td>\n      <td>1</td>\n    </tr>\n    <tr>\n      <th>1</th>\n      <td>85</td>\n      <td>58</td>\n      <td>41</td>\n      <td>21.770462</td>\n      <td>80.319644</td>\n      <td>7.038096</td>\n      <td>226.655537</td>\n      <td>rice</td>\n      <td>1</td>\n    </tr>\n    <tr>\n      <th>2</th>\n      <td>60</td>\n      <td>55</td>\n      <td>44</td>\n      <td>23.004459</td>\n      <td>82.320763</td>\n      <td>7.840207</td>\n      <td>263.964248</td>\n      <td>rice</td>\n      <td>1</td>\n    </tr>\n    <tr>\n      <th>3</th>\n      <td>74</td>\n      <td>35</td>\n      <td>40</td>\n      <td>26.491096</td>\n      <td>80.158363</td>\n      <td>6.980401</td>\n      <td>242.864034</td>\n      <td>rice</td>\n      <td>1</td>\n    </tr>\n    <tr>\n      <th>4</th>\n      <td>78</td>\n      <td>42</td>\n      <td>42</td>\n      <td>20.130175</td>\n      <td>81.604873</td>\n      <td>7.628473</td>\n      <td>262.717340</td>\n      <td>rice</td>\n      <td>1</td>\n    </tr>\n  </tbody>\n</table>\n</div>"
     },
     "execution_count": 17,
     "metadata": {},
     "output_type": "execute_result"
    }
   ],
   "source": [
    "# crop.drop(['label'],axis=1,inplace=True)\n",
    "crop.head()"
   ]
  },
  {
   "cell_type": "markdown",
   "id": "a5494675",
   "metadata": {},
   "source": [
    "# Train Test Split"
   ]
  },
  {
   "cell_type": "code",
   "execution_count": 19,
   "id": "5a049f55",
   "metadata": {
    "ExecuteTime": {
     "end_time": "2023-10-05T16:38:44.849808700Z",
     "start_time": "2023-10-05T16:38:44.825909500Z"
    }
   },
   "outputs": [],
   "source": [
    "X = crop.drop(['crop_num','label'],axis=1)\n",
    "y = crop['crop_num']"
   ]
  },
  {
   "cell_type": "code",
   "execution_count": 20,
   "id": "9d223a69",
   "metadata": {
    "ExecuteTime": {
     "end_time": "2023-10-05T16:38:47.187077200Z",
     "start_time": "2023-10-05T16:38:47.171077Z"
    }
   },
   "outputs": [
    {
     "data": {
      "text/plain": "        N   P   K  temperature   humidity        ph    rainfall\n0      90  42  43    20.879744  82.002744  6.502985  202.935536\n1      85  58  41    21.770462  80.319644  7.038096  226.655537\n2      60  55  44    23.004459  82.320763  7.840207  263.964248\n3      74  35  40    26.491096  80.158363  6.980401  242.864034\n4      78  42  42    20.130175  81.604873  7.628473  262.717340\n...   ...  ..  ..          ...        ...       ...         ...\n2195  107  34  32    26.774637  66.413269  6.780064  177.774507\n2196   99  15  27    27.417112  56.636362  6.086922  127.924610\n2197  118  33  30    24.131797  67.225123  6.362608  173.322839\n2198  117  32  34    26.272418  52.127394  6.758793  127.175293\n2199  104  18  30    23.603016  60.396475  6.779833  140.937041\n\n[2200 rows x 7 columns]",
      "text/html": "<div>\n<style scoped>\n    .dataframe tbody tr th:only-of-type {\n        vertical-align: middle;\n    }\n\n    .dataframe tbody tr th {\n        vertical-align: top;\n    }\n\n    .dataframe thead th {\n        text-align: right;\n    }\n</style>\n<table border=\"1\" class=\"dataframe\">\n  <thead>\n    <tr style=\"text-align: right;\">\n      <th></th>\n      <th>N</th>\n      <th>P</th>\n      <th>K</th>\n      <th>temperature</th>\n      <th>humidity</th>\n      <th>ph</th>\n      <th>rainfall</th>\n    </tr>\n  </thead>\n  <tbody>\n    <tr>\n      <th>0</th>\n      <td>90</td>\n      <td>42</td>\n      <td>43</td>\n      <td>20.879744</td>\n      <td>82.002744</td>\n      <td>6.502985</td>\n      <td>202.935536</td>\n    </tr>\n    <tr>\n      <th>1</th>\n      <td>85</td>\n      <td>58</td>\n      <td>41</td>\n      <td>21.770462</td>\n      <td>80.319644</td>\n      <td>7.038096</td>\n      <td>226.655537</td>\n    </tr>\n    <tr>\n      <th>2</th>\n      <td>60</td>\n      <td>55</td>\n      <td>44</td>\n      <td>23.004459</td>\n      <td>82.320763</td>\n      <td>7.840207</td>\n      <td>263.964248</td>\n    </tr>\n    <tr>\n      <th>3</th>\n      <td>74</td>\n      <td>35</td>\n      <td>40</td>\n      <td>26.491096</td>\n      <td>80.158363</td>\n      <td>6.980401</td>\n      <td>242.864034</td>\n    </tr>\n    <tr>\n      <th>4</th>\n      <td>78</td>\n      <td>42</td>\n      <td>42</td>\n      <td>20.130175</td>\n      <td>81.604873</td>\n      <td>7.628473</td>\n      <td>262.717340</td>\n    </tr>\n    <tr>\n      <th>...</th>\n      <td>...</td>\n      <td>...</td>\n      <td>...</td>\n      <td>...</td>\n      <td>...</td>\n      <td>...</td>\n      <td>...</td>\n    </tr>\n    <tr>\n      <th>2195</th>\n      <td>107</td>\n      <td>34</td>\n      <td>32</td>\n      <td>26.774637</td>\n      <td>66.413269</td>\n      <td>6.780064</td>\n      <td>177.774507</td>\n    </tr>\n    <tr>\n      <th>2196</th>\n      <td>99</td>\n      <td>15</td>\n      <td>27</td>\n      <td>27.417112</td>\n      <td>56.636362</td>\n      <td>6.086922</td>\n      <td>127.924610</td>\n    </tr>\n    <tr>\n      <th>2197</th>\n      <td>118</td>\n      <td>33</td>\n      <td>30</td>\n      <td>24.131797</td>\n      <td>67.225123</td>\n      <td>6.362608</td>\n      <td>173.322839</td>\n    </tr>\n    <tr>\n      <th>2198</th>\n      <td>117</td>\n      <td>32</td>\n      <td>34</td>\n      <td>26.272418</td>\n      <td>52.127394</td>\n      <td>6.758793</td>\n      <td>127.175293</td>\n    </tr>\n    <tr>\n      <th>2199</th>\n      <td>104</td>\n      <td>18</td>\n      <td>30</td>\n      <td>23.603016</td>\n      <td>60.396475</td>\n      <td>6.779833</td>\n      <td>140.937041</td>\n    </tr>\n  </tbody>\n</table>\n<p>2200 rows × 7 columns</p>\n</div>"
     },
     "execution_count": 20,
     "metadata": {},
     "output_type": "execute_result"
    }
   ],
   "source": [
    "X"
   ]
  },
  {
   "cell_type": "code",
   "execution_count": null,
   "id": "d2601fcf",
   "metadata": {},
   "outputs": [],
   "source": []
  },
  {
   "cell_type": "code",
   "execution_count": 21,
   "id": "c561ea31",
   "metadata": {
    "ExecuteTime": {
     "end_time": "2023-10-05T16:38:50.313525Z",
     "start_time": "2023-10-05T16:38:50.297617100Z"
    }
   },
   "outputs": [
    {
     "data": {
      "text/plain": "(2200,)"
     },
     "execution_count": 21,
     "metadata": {},
     "output_type": "execute_result"
    }
   ],
   "source": [
    "y.shape"
   ]
  },
  {
   "cell_type": "code",
   "execution_count": 22,
   "id": "caba8efb",
   "metadata": {
    "ExecuteTime": {
     "end_time": "2023-10-05T16:38:52.378272Z",
     "start_time": "2023-10-05T16:38:52.230206600Z"
    }
   },
   "outputs": [],
   "source": [
    "from sklearn.model_selection import train_test_split"
   ]
  },
  {
   "cell_type": "code",
   "execution_count": 24,
   "id": "6774a9dd",
   "metadata": {
    "ExecuteTime": {
     "end_time": "2023-10-05T16:38:57.363175900Z",
     "start_time": "2023-10-05T16:38:57.331474500Z"
    }
   },
   "outputs": [],
   "source": [
    "\n",
    "X_train, X_test, y_train, y_test = train_test_split(X, y, test_size=0.2, random_state=42)"
   ]
  },
  {
   "cell_type": "code",
   "execution_count": 25,
   "id": "bf57e524",
   "metadata": {
    "ExecuteTime": {
     "end_time": "2023-10-05T16:38:59.230061200Z",
     "start_time": "2023-10-05T16:38:59.213634800Z"
    }
   },
   "outputs": [
    {
     "data": {
      "text/plain": "(1760, 7)"
     },
     "execution_count": 25,
     "metadata": {},
     "output_type": "execute_result"
    }
   ],
   "source": [
    "X_train.shape"
   ]
  },
  {
   "cell_type": "code",
   "execution_count": 26,
   "id": "81d69b3e",
   "metadata": {
    "ExecuteTime": {
     "end_time": "2023-10-05T16:39:01.168076800Z",
     "start_time": "2023-10-05T16:39:01.152356500Z"
    }
   },
   "outputs": [
    {
     "data": {
      "text/plain": "(440, 7)"
     },
     "execution_count": 26,
     "metadata": {},
     "output_type": "execute_result"
    }
   ],
   "source": [
    "X_test.shape"
   ]
  },
  {
   "cell_type": "code",
   "execution_count": 27,
   "id": "20ec83a7",
   "metadata": {
    "ExecuteTime": {
     "end_time": "2023-10-05T16:39:03.952626100Z",
     "start_time": "2023-10-05T16:39:03.936976100Z"
    }
   },
   "outputs": [
    {
     "data": {
      "text/plain": "        N    P    K  temperature   humidity        ph    rainfall\n1656   17   16   14    16.396243  92.181519  6.625539  102.944161\n752    37   79   19    27.543848  69.347863  7.143943   69.408782\n892     7   73   25    27.521856  63.132153  7.288057   45.208411\n1041  101   70   48    25.360592  75.031933  6.012697  116.553145\n1179    0   17   30    35.474783  47.972305  6.279134   97.790725\n...   ...  ...  ...          ...        ...       ...         ...\n1638   10    5    5    21.213070  91.353492  7.817846  112.983436\n1095  108   94   47    27.359116  84.546250  6.387431   90.812505\n1130   11   36   31    27.920633  51.779659  6.475449  100.258567\n1294   11  124  204    13.429886  80.066340  6.361141   71.400430\n860    32   78   22    23.970814  62.355576  7.007038   53.409060\n\n[1760 rows x 7 columns]",
      "text/html": "<div>\n<style scoped>\n    .dataframe tbody tr th:only-of-type {\n        vertical-align: middle;\n    }\n\n    .dataframe tbody tr th {\n        vertical-align: top;\n    }\n\n    .dataframe thead th {\n        text-align: right;\n    }\n</style>\n<table border=\"1\" class=\"dataframe\">\n  <thead>\n    <tr style=\"text-align: right;\">\n      <th></th>\n      <th>N</th>\n      <th>P</th>\n      <th>K</th>\n      <th>temperature</th>\n      <th>humidity</th>\n      <th>ph</th>\n      <th>rainfall</th>\n    </tr>\n  </thead>\n  <tbody>\n    <tr>\n      <th>1656</th>\n      <td>17</td>\n      <td>16</td>\n      <td>14</td>\n      <td>16.396243</td>\n      <td>92.181519</td>\n      <td>6.625539</td>\n      <td>102.944161</td>\n    </tr>\n    <tr>\n      <th>752</th>\n      <td>37</td>\n      <td>79</td>\n      <td>19</td>\n      <td>27.543848</td>\n      <td>69.347863</td>\n      <td>7.143943</td>\n      <td>69.408782</td>\n    </tr>\n    <tr>\n      <th>892</th>\n      <td>7</td>\n      <td>73</td>\n      <td>25</td>\n      <td>27.521856</td>\n      <td>63.132153</td>\n      <td>7.288057</td>\n      <td>45.208411</td>\n    </tr>\n    <tr>\n      <th>1041</th>\n      <td>101</td>\n      <td>70</td>\n      <td>48</td>\n      <td>25.360592</td>\n      <td>75.031933</td>\n      <td>6.012697</td>\n      <td>116.553145</td>\n    </tr>\n    <tr>\n      <th>1179</th>\n      <td>0</td>\n      <td>17</td>\n      <td>30</td>\n      <td>35.474783</td>\n      <td>47.972305</td>\n      <td>6.279134</td>\n      <td>97.790725</td>\n    </tr>\n    <tr>\n      <th>...</th>\n      <td>...</td>\n      <td>...</td>\n      <td>...</td>\n      <td>...</td>\n      <td>...</td>\n      <td>...</td>\n      <td>...</td>\n    </tr>\n    <tr>\n      <th>1638</th>\n      <td>10</td>\n      <td>5</td>\n      <td>5</td>\n      <td>21.213070</td>\n      <td>91.353492</td>\n      <td>7.817846</td>\n      <td>112.983436</td>\n    </tr>\n    <tr>\n      <th>1095</th>\n      <td>108</td>\n      <td>94</td>\n      <td>47</td>\n      <td>27.359116</td>\n      <td>84.546250</td>\n      <td>6.387431</td>\n      <td>90.812505</td>\n    </tr>\n    <tr>\n      <th>1130</th>\n      <td>11</td>\n      <td>36</td>\n      <td>31</td>\n      <td>27.920633</td>\n      <td>51.779659</td>\n      <td>6.475449</td>\n      <td>100.258567</td>\n    </tr>\n    <tr>\n      <th>1294</th>\n      <td>11</td>\n      <td>124</td>\n      <td>204</td>\n      <td>13.429886</td>\n      <td>80.066340</td>\n      <td>6.361141</td>\n      <td>71.400430</td>\n    </tr>\n    <tr>\n      <th>860</th>\n      <td>32</td>\n      <td>78</td>\n      <td>22</td>\n      <td>23.970814</td>\n      <td>62.355576</td>\n      <td>7.007038</td>\n      <td>53.409060</td>\n    </tr>\n  </tbody>\n</table>\n<p>1760 rows × 7 columns</p>\n</div>"
     },
     "execution_count": 27,
     "metadata": {},
     "output_type": "execute_result"
    }
   ],
   "source": [
    "X_train"
   ]
  },
  {
   "cell_type": "markdown",
   "id": "ab13cdf8",
   "metadata": {},
   "source": [
    "\n",
    "# Scale the features using MinMaxScaler"
   ]
  },
  {
   "cell_type": "code",
   "execution_count": 28,
   "id": "f19981a7",
   "metadata": {
    "ExecuteTime": {
     "end_time": "2023-10-05T16:39:07.852981500Z",
     "start_time": "2023-10-05T16:39:07.837294700Z"
    }
   },
   "outputs": [],
   "source": [
    "from sklearn.preprocessing import MinMaxScaler\n",
    "ms = MinMaxScaler()\n",
    "\n",
    "X_train = ms.fit_transform(X_train)\n",
    "X_test = ms.transform(X_test)"
   ]
  },
  {
   "cell_type": "code",
   "execution_count": 29,
   "id": "f3f50c64",
   "metadata": {
    "ExecuteTime": {
     "end_time": "2023-10-05T16:39:13.807173800Z",
     "start_time": "2023-10-05T16:39:13.798502200Z"
    }
   },
   "outputs": [
    {
     "data": {
      "text/plain": "array([[0.12142857, 0.07857143, 0.045     , ..., 0.9089898 , 0.48532225,\n        0.29685161],\n       [0.26428571, 0.52857143, 0.07      , ..., 0.64257946, 0.56594073,\n        0.17630752],\n       [0.05      , 0.48571429, 0.1       , ..., 0.57005802, 0.58835229,\n        0.08931844],\n       ...,\n       [0.07857143, 0.22142857, 0.13      , ..., 0.43760347, 0.46198144,\n        0.28719815],\n       [0.07857143, 0.85      , 0.995     , ..., 0.76763665, 0.44420505,\n        0.18346657],\n       [0.22857143, 0.52142857, 0.085     , ..., 0.56099735, 0.54465022,\n        0.11879596]])"
     },
     "execution_count": 29,
     "metadata": {},
     "output_type": "execute_result"
    }
   ],
   "source": [
    "X_train"
   ]
  },
  {
   "cell_type": "markdown",
   "id": "f773f2ff",
   "metadata": {},
   "source": [
    "# Standarization"
   ]
  },
  {
   "cell_type": "code",
   "execution_count": 31,
   "id": "9099b5ac",
   "metadata": {
    "ExecuteTime": {
     "end_time": "2023-10-05T16:39:17.947993500Z",
     "start_time": "2023-10-05T16:39:17.932297100Z"
    }
   },
   "outputs": [],
   "source": [
    "from sklearn.preprocessing import StandardScaler\n",
    "sc = StandardScaler()\n",
    "\n",
    "\n",
    "sc.fit(X_train)\n",
    "X_train = sc.transform(X_train)\n",
    "X_test = sc.transform(X_test)"
   ]
  },
  {
   "cell_type": "code",
   "execution_count": 32,
   "id": "1f4fd4c5",
   "metadata": {
    "ExecuteTime": {
     "end_time": "2023-10-05T16:39:20.717461Z",
     "start_time": "2023-10-05T16:39:20.715410500Z"
    }
   },
   "outputs": [
    {
     "data": {
      "text/plain": "array([[-9.03426596e-01, -1.12616170e+00, -6.68506601e-01, ...,\n         9.36586183e-01,  1.93473784e-01,  5.14970176e-03],\n       [-3.67051340e-01,  7.70358846e-01, -5.70589522e-01, ...,\n        -1.00470485e-01,  8.63917548e-01, -6.05290566e-01],\n       [-1.17161422e+00,  5.89737842e-01, -4.53089028e-01, ...,\n        -3.82774991e-01,  1.05029771e+00, -1.04580687e+00],\n       ...,\n       [-1.06433917e+00, -5.24091685e-01, -3.35588533e-01, ...,\n        -8.98381379e-01, -6.34357580e-04, -4.37358211e-02],\n       [-1.06433917e+00,  2.12501638e+00,  3.05234239e+00, ...,\n         3.86340190e-01, -1.48467347e-01, -5.69036842e-01],\n       [-5.01145154e-01,  7.40255346e-01, -5.11839275e-01, ...,\n        -4.18045489e-01,  6.86860180e-01, -8.96531475e-01]])"
     },
     "execution_count": 32,
     "metadata": {},
     "output_type": "execute_result"
    }
   ],
   "source": [
    "X_train"
   ]
  },
  {
   "cell_type": "markdown",
   "id": "752a08ae",
   "metadata": {},
   "source": [
    "# Training Models"
   ]
  },
  {
   "cell_type": "code",
   "execution_count": 34,
   "id": "ac6ef55e",
   "metadata": {
    "ExecuteTime": {
     "end_time": "2023-10-05T16:39:53.354748100Z",
     "start_time": "2023-10-05T16:39:38.133147100Z"
    }
   },
   "outputs": [
    {
     "name": "stdout",
     "output_type": "stream",
     "text": [
      "Logistic Regression  with accuracy : 0.9636363636363636\n",
      "Naive Bayes  with accuracy : 0.9954545454545455\n",
      "Support Vector Machine  with accuracy : 0.9681818181818181\n",
      "K-Nearest Neighbors  with accuracy : 0.9590909090909091\n",
      "Decision Tree  with accuracy : 0.9818181818181818\n",
      "Random Forest  with accuracy : 0.9954545454545455\n",
      "Bagging  with accuracy : 0.9886363636363636\n",
      "AdaBoost  with accuracy : 0.1409090909090909\n",
      "Gradient Boosting  with accuracy : 0.9818181818181818\n",
      "Extra Trees  with accuracy : 0.9022727272727272\n"
     ]
    }
   ],
   "source": [
    "from sklearn.linear_model import LogisticRegression\n",
    "from sklearn.naive_bayes import GaussianNB\n",
    "from sklearn.svm import SVC\n",
    "from sklearn.neighbors import KNeighborsClassifier\n",
    "from sklearn.tree import DecisionTreeClassifier\n",
    "from sklearn.tree import ExtraTreeClassifier\n",
    "from sklearn.ensemble import RandomForestClassifier\n",
    "from sklearn.ensemble import BaggingClassifier\n",
    "from sklearn.ensemble import GradientBoostingClassifier\n",
    "from sklearn.ensemble import AdaBoostClassifier\n",
    "from sklearn.metrics import accuracy_score\n",
    "\n",
    "# create instances of all models\n",
    "models = {\n",
    "    'Logistic Regression': LogisticRegression(),\n",
    "    'Naive Bayes': GaussianNB(),\n",
    "    'Support Vector Machine': SVC(),\n",
    "    'K-Nearest Neighbors': KNeighborsClassifier(),\n",
    "    'Decision Tree': DecisionTreeClassifier(),\n",
    "    'Random Forest': RandomForestClassifier(),\n",
    "    'Bagging': BaggingClassifier(),\n",
    "    'AdaBoost': AdaBoostClassifier(),\n",
    "    'Gradient Boosting': GradientBoostingClassifier(),\n",
    "    'Extra Trees': ExtraTreeClassifier(),\n",
    "}\n",
    "\n",
    "\n",
    "for name, md in models.items():\n",
    "    md.fit(X_train,y_train)\n",
    "    ypred = md.predict(X_test)\n",
    "    \n",
    "    print(f\"{name}  with accuracy : {accuracy_score(y_test,ypred)}\")"
   ]
  },
  {
   "cell_type": "code",
   "execution_count": 35,
   "id": "4659be4d",
   "metadata": {
    "ExecuteTime": {
     "end_time": "2023-10-05T16:39:53.767496100Z",
     "start_time": "2023-10-05T16:39:53.354748100Z"
    }
   },
   "outputs": [
    {
     "data": {
      "text/plain": "0.9931818181818182"
     },
     "execution_count": 35,
     "metadata": {},
     "output_type": "execute_result"
    }
   ],
   "source": [
    "rfc = RandomForestClassifier()\n",
    "rfc.fit(X_train,y_train)\n",
    "ypred = rfc.predict(X_test)\n",
    "accuracy_score(y_test,ypred)"
   ]
  },
  {
   "cell_type": "markdown",
   "id": "859d9922",
   "metadata": {},
   "source": [
    "# Predictive System"
   ]
  },
  {
   "cell_type": "code",
   "execution_count": 36,
   "id": "17f3a3fe",
   "metadata": {
    "ExecuteTime": {
     "end_time": "2023-10-05T16:39:56.790998Z",
     "start_time": "2023-10-05T16:39:56.787617700Z"
    }
   },
   "outputs": [],
   "source": [
    "def recommendation(N,P,k,temperature,humidity,ph,rainfal):\n",
    "    features = np.array([[N,P,k,temperature,humidity,ph,rainfal]])\n",
    "    transformed_features = ms.fit_transform(features)\n",
    "    transformed_features = sc.fit_transform(transformed_features)\n",
    "    prediction = rfc.predict(transformed_features).reshape(1,-1)\n",
    "    \n",
    "    return prediction[0] "
   ]
  },
  {
   "cell_type": "code",
   "execution_count": 55,
   "id": "64ffd9d3",
   "metadata": {},
   "outputs": [
    {
     "name": "stdout",
     "output_type": "stream",
     "text": [
      "Papaya is a best crop to be cultivated \n"
     ]
    }
   ],
   "source": [
    "N = 40\n",
    "P = 50\n",
    "k = 50\n",
    "temperature = 40.0\n",
    "humidity = 20\n",
    "ph = 100\n",
    "rainfall = 100\n",
    "\n",
    "predict = recommendation(N,P,k,temperature,humidity,ph,rainfall)\n",
    "\n",
    "\n",
    "crop_dict = {1: \"Rice\", 2: \"Maize\", 3: \"Jute\", 4: \"Cotton\", 5: \"Coconut\", 6: \"Papaya\", 7: \"Orange\",\n",
    "                 8: \"Apple\", 9: \"Muskmelon\", 10: \"Watermelon\", 11: \"Grapes\", 12: \"Mango\", 13: \"Banana\",\n",
    "                 14: \"Pomegranate\", 15: \"Lentil\", 16: \"Blackgram\", 17: \"Mungbean\", 18: \"Mothbeans\",\n",
    "                 19: \"Pigeonpeas\", 20: \"Kidneybeans\", 21: \"Chickpea\", 22: \"Coffee\"}\n",
    "\n",
    "if predict[0] in crop_dict:\n",
    "    crop = crop_dict[predict[0]]\n",
    "    print(\"{} is a best crop to be cultivated \".format(crop))\n",
    "else:\n",
    "    print(\"Sorry are not able to recommend a proper crop for this environment\")"
   ]
  },
  {
   "cell_type": "code",
   "execution_count": 39,
   "id": "fa3d3b8c",
   "metadata": {
    "ExecuteTime": {
     "end_time": "2023-10-05T16:41:37.595203Z",
     "start_time": "2023-10-05T16:41:37.572382Z"
    }
   },
   "outputs": [],
   "source": [
    "import pickle\n",
    "pickle.dump(rfc,open('model.pkl','wb'))\n",
    "pickle.dump(ms,open('minmaxscaler.pkl','wb'))\n",
    "pickle.dump(sc,open('standscaler.pkl','wb'))"
   ]
  },
  {
   "cell_type": "code",
   "execution_count": null,
   "id": "a55a48a3",
   "metadata": {},
   "outputs": [],
   "source": []
  },
  {
   "cell_type": "code",
   "execution_count": null,
   "id": "c97733fc",
   "metadata": {},
   "outputs": [],
   "source": []
  }
 ],
 "metadata": {
  "kernelspec": {
   "display_name": "Python 3 (ipykernel)",
   "language": "python",
   "name": "python3"
  },
  "language_info": {
   "codemirror_mode": {
    "name": "ipython",
    "version": 3
   },
   "file_extension": ".py",
   "mimetype": "text/x-python",
   "name": "python",
   "nbconvert_exporter": "python",
   "pygments_lexer": "ipython3",
   "version": "3.9.12"
  }
 },
 "nbformat": 4,
 "nbformat_minor": 5
}
